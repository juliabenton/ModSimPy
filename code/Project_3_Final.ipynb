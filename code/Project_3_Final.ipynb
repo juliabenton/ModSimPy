{
 "cells": [
  {
   "cell_type": "markdown",
   "metadata": {},
   "source": [
    "# What is the Optimal Angle from the Ground that a Shooter Should Fire A Bullet at a Falling Clay Pigeon While Playing Pigeon Ball?\n",
    "\n",
    "Julia Benton and Talia Tandler\n",
    "\n",
    "December 2018"
   ]
  },
  {
   "cell_type": "markdown",
   "metadata": {},
   "source": [
    "# Question\n",
    "For our project, we researched the forces that act on a fired projectile and a free-falling object to answer the design question: What is the optimal angle from the ground that a shooter should fire a bullet at a falling clay pigeon while playing the new game of pigeon ball? Inspired by both clay pigeon shooting and skeet shooting, pigeon ball is Talia and Julia's creation that involves a shooter firing a shotgun across the length of a football field at a clay pigeon being dropped straight down from the top of a football goal post. \n",
    "\n",
    "In our model, we wanted to know what the optimal angle someone playing pigeon ball should shoot a shotgun at so that the bullet and clay pigeon would reach the same (x,y) position and the clay pigeon would break. We gave the bullet fired from the gun a given initial velocity vector. The pigeon was dropped with an initial velocity of 0 m/s in the y-direction that increased during the drop, and a velocity of 0 m/s in the x-direction that stayed constant throughout the fall. We implemented net force physics equations for this translational motion model, considering the drag force and gravitational force acting on both the bullet and pigeon. We modelled the parabolic motion of the projectile bullet and the free fall of the pigeon. We decided to not include terminal velocity of either object in our model. We used Cartesian coordinates and defined our origin of (0,0) to be the point on the field where the shooter's feet are. The clay pigeon drops at the same instant the gun fires. \n",
    "\n",
    "Our model and question are important because they can help skeet shooter and hunters aim accurately at a free-falling pigeon or target object. "
   ]
  },
  {
   "cell_type": "code",
   "execution_count": 1,
   "metadata": {},
   "outputs": [],
   "source": [
    "# Configure Jupyter so figures appear in the notebook\n",
    "%matplotlib inline\n",
    "\n",
    "# Configure Jupyter to display the assigned value after an assignment\n",
    "%config InteractiveShell.ast_node_interactivity='last_expr_or_assign'\n",
    "\n",
    "# import functions from the modsim.py module\n",
    "from modsim import *\n",
    "import math"
   ]
  },
  {
   "cell_type": "markdown",
   "metadata": {},
   "source": [
    "# Model"
   ]
  },
  {
   "cell_type": "code",
   "execution_count": 2,
   "metadata": {},
   "outputs": [
    {
     "data": {
      "text/html": [
       "radian"
      ],
      "text/latex": [
       "$radian$"
      ],
      "text/plain": [
       "<Unit('radian')>"
      ]
     },
     "execution_count": 2,
     "metadata": {},
     "output_type": "execute_result"
    }
   ],
   "source": [
    "#define the units used in the code\n",
    "\n",
    "m = UNITS.meter\n",
    "s = UNITS.second\n",
    "kg = UNITS.kilogram\n",
    "N = UNITS.newton\n",
    "degree = UNITS.degree\n",
    "radian = UNITS.radian"
   ]
  },
  {
   "cell_type": "markdown",
   "metadata": {},
   "source": [
    "### Set up parameters\n",
    "\n",
    "We first defined all of the constants and initial conditions that we would need in later functions. This included initial velocities and angles, as well as the mass of the pigeon and bullet. Our numbers for these parameters came from reliable sources listed at the end of the model. We had diameters for the clay pigeon and bullet in params because we modelled these objects as spheres to simplify our model. The height of the pigeon and horizontal distance between the pigeon and bullet are taken from football field measurements. The drag coefficient for a free-falling sphere was used since the objects were modelled as spheres."
   ]
  },
  {
   "cell_type": "code",
   "execution_count": 3,
   "metadata": {},
   "outputs": [
    {
     "data": {
      "text/html": [
       "<div>\n",
       "<style scoped>\n",
       "    .dataframe tbody tr th:only-of-type {\n",
       "        vertical-align: middle;\n",
       "    }\n",
       "\n",
       "    .dataframe tbody tr th {\n",
       "        vertical-align: top;\n",
       "    }\n",
       "\n",
       "    .dataframe thead th {\n",
       "        text-align: right;\n",
       "    }\n",
       "</style>\n",
       "<table border=\"1\" class=\"dataframe\">\n",
       "  <thead>\n",
       "    <tr style=\"text-align: right;\">\n",
       "      <th></th>\n",
       "      <th>values</th>\n",
       "    </tr>\n",
       "  </thead>\n",
       "  <tbody>\n",
       "    <tr>\n",
       "      <th>h_bullet</th>\n",
       "      <td>1.524 meter</td>\n",
       "    </tr>\n",
       "    <tr>\n",
       "      <th>h_pigeon</th>\n",
       "      <td>12.192 meter</td>\n",
       "    </tr>\n",
       "    <tr>\n",
       "      <th>mass_bullet</th>\n",
       "      <td>0.002 kilogram</td>\n",
       "    </tr>\n",
       "    <tr>\n",
       "      <th>mass_pigeon</th>\n",
       "      <td>0.105 kilogram</td>\n",
       "    </tr>\n",
       "    <tr>\n",
       "      <th>diameter_pigeon</th>\n",
       "      <td>0.11 meter</td>\n",
       "    </tr>\n",
       "    <tr>\n",
       "      <th>diameter_bullet</th>\n",
       "      <td>0.0027 meter</td>\n",
       "    </tr>\n",
       "    <tr>\n",
       "      <th>g</th>\n",
       "      <td>9.8 meter / second ** 2</td>\n",
       "    </tr>\n",
       "    <tr>\n",
       "      <th>rho</th>\n",
       "      <td>1.225 kilogram / meter ** 3</td>\n",
       "    </tr>\n",
       "    <tr>\n",
       "      <th>t_0</th>\n",
       "      <td>0 second</td>\n",
       "    </tr>\n",
       "    <tr>\n",
       "      <th>t_end</th>\n",
       "      <td>30 second</td>\n",
       "    </tr>\n",
       "    <tr>\n",
       "      <th>angle_b</th>\n",
       "      <td>0 degree</td>\n",
       "    </tr>\n",
       "    <tr>\n",
       "      <th>angle_p</th>\n",
       "      <td>0 degree</td>\n",
       "    </tr>\n",
       "    <tr>\n",
       "      <th>v_bullet_0</th>\n",
       "      <td>100.0 meter / second</td>\n",
       "    </tr>\n",
       "    <tr>\n",
       "      <th>v_pigeon_0</th>\n",
       "      <td>0.0 meter / second</td>\n",
       "    </tr>\n",
       "    <tr>\n",
       "      <th>dist_0</th>\n",
       "      <td>109.728 meter</td>\n",
       "    </tr>\n",
       "    <tr>\n",
       "      <th>C_d</th>\n",
       "      <td>0.187</td>\n",
       "    </tr>\n",
       "  </tbody>\n",
       "</table>\n",
       "</div>"
      ],
      "text/plain": [
       "h_bullet                           1.524 meter\n",
       "h_pigeon                          12.192 meter\n",
       "mass_bullet                     0.002 kilogram\n",
       "mass_pigeon                     0.105 kilogram\n",
       "diameter_pigeon                     0.11 meter\n",
       "diameter_bullet                   0.0027 meter\n",
       "g                      9.8 meter / second ** 2\n",
       "rho                1.225 kilogram / meter ** 3\n",
       "t_0                                   0 second\n",
       "t_end                                30 second\n",
       "angle_b                               0 degree\n",
       "angle_p                               0 degree\n",
       "v_bullet_0                100.0 meter / second\n",
       "v_pigeon_0                  0.0 meter / second\n",
       "dist_0                           109.728 meter\n",
       "C_d                                      0.187\n",
       "dtype: object"
      ]
     },
     "execution_count": 3,
     "metadata": {},
     "output_type": "execute_result"
    }
   ],
   "source": [
    "params = Params(h_bullet = 1.524 *m, #starting height of the bullet being shot\n",
    "                h_pigeon = 12.192 *m, #height of the pigeon before drop \n",
    "                mass_bullet = 0.002 * kg, #mass of bullet\n",
    "                mass_pigeon = 0.105 * kg, #mass of clay pigeon\n",
    "                diameter_pigeon = 0.11 * m, #diameter of spherical pigeon \n",
    "                diameter_bullet = 0.0027 * m,  #diameter of spherical bullet \n",
    "                g = 9.8 * m/s**2, #acceleration of gravity\n",
    "                rho = 1.225 * kg/m**3, #density of air\n",
    "                t_0 = 0 * s, #starting time of the system\n",
    "                t_end = 30 * s, #end time of the system\n",
    "                angle_b = 0 *degree, #angle from the ground bullet is shot\n",
    "                angle_p = 0*degree, #starting angle of the pigeon\n",
    "                v_bullet_0 = 100 * m/s, #initial velocity vector of the bullet\n",
    "                v_pigeon_0 = 0 *m/s, #initial velocity of the pigeon-dropped not thrown\n",
    "                dist_0 = 109.728 *m, #horizontal distance b/w bullet & pigeon- bullet @ origin (0,0)\n",
    "                C_d = 0.187) #drag coefficient for free-falling sphere"
   ]
  },
  {
   "cell_type": "markdown",
   "metadata": {},
   "source": [
    "### Make System\n",
    "\n",
    "After defining our parameters, we made a system to break down the x and y components of the bullet's and the clay pigeon's starting velocity. We also defined an initial state function to store the initial conditions of position and velocity that would not change and would keep the conditions that model began with."
   ]
  },
  {
   "cell_type": "code",
   "execution_count": 4,
   "metadata": {},
   "outputs": [],
   "source": [
    "def make_system(params):\n",
    "    \n",
    "    unpack (params)\n",
    "    \n",
    "    area_pigeon = np.pi * (diameter_pigeon/2)**2\n",
    "    area_bullet = np.pi * (diameter_bullet/2)**2\n",
    "    \n",
    "    #convert angle to radians from radians\n",
    "    theta_b = np.deg2rad(angle_b)\n",
    "    theta_p = np.deg2rad(angle_p)\n",
    "    \n",
    "    #compute x and y components of velocity from angle and velocity in params\n",
    "    vxb, vyb = pol2cart(theta_b, v_bullet_0)\n",
    "    vxp, vyp = pol2cart(theta_p, v_pigeon_0)\n",
    "    \n",
    "    #make initial state w/ inital height and velocity\n",
    "    init = State(xp=dist_0, xb=0, yp=h_pigeon, yb=h_bullet, vxp=vxp, vxb=vxb, vyp=vyp, vyb=vyb)\n",
    "    \n",
    "    return System(params,init=init, area_pigeon = area_pigeon, area_bullet = area_bullet)"
   ]
  },
  {
   "cell_type": "markdown",
   "metadata": {},
   "source": [
    "### Calculating Drag Force\n",
    "\n",
    "Before running through the simulation, we calculated the drag forces acting on each of the objects in the system using values from params. The bullet experienced drag force in the negative y-direction and negative x-direction. The pigeon experienced drag force in the positive y-direction. This force was computed as and returned by the function as a vector."
   ]
  },
  {
   "cell_type": "code",
   "execution_count": 5,
   "metadata": {},
   "outputs": [],
   "source": [
    "def drag_force_bullet(Vb, system):\n",
    "    \n",
    "    unpack (system)\n",
    "    \n",
    "    #calc mag & direction of bullet drag force vector \n",
    "    mag_bullet = -rho*Vb.mag**2 * C_d * area_bullet/2 \n",
    "    direction_bullet = Vb.hat()                       \n",
    "    f_drag_bullet = direction_bullet * mag_bullet   \n",
    "    \n",
    "    return f_drag_bullet"
   ]
  },
  {
   "cell_type": "code",
   "execution_count": 6,
   "metadata": {},
   "outputs": [],
   "source": [
    "def drag_force_pigeon(Vp, system):\n",
    "    \n",
    "    unpack (system)\n",
    "    \n",
    "    #calc mag & direction of pigeon drag force vector \n",
    "    mag_pigeon = -rho*Vp.mag**2 * C_d * area_pigeon/2 \n",
    "    direction_pigeon = Vp.hat()                      \n",
    "    f_drag_pigeon = direction_pigeon * mag_pigeon      \n",
    "    \n",
    "    return f_drag_pigeon"
   ]
  },
  {
   "cell_type": "markdown",
   "metadata": {},
   "source": [
    "### Slope function\n",
    "\n",
    "We defined a slope function to compute the derivatives of the state variables. Since the state variables were position and velocity, we created a velocity vector of the bullet and pigeon using the components from the state. We also took the derivative of velocity to find the acceleration of the objects. The objects had both drag and gravitational forces acting on them, so the accelerations were added together for each to get net acceleration. Because drag force and gravity were in opposing directions to the acceleration due to applied force on the shot bullet, we were able to get the total accelerations of this object and map the trajectories of the objects."
   ]
  },
  {
   "cell_type": "code",
   "execution_count": 7,
   "metadata": {},
   "outputs": [],
   "source": [
    "def slope_func (state,t,system): #computes derivatives of the state variables\n",
    "    \n",
    "    xp, xb, yp, yb, vxp, vxb, vyp, vyb = state\n",
    "    unpack (system)\n",
    "    \n",
    "    #make velocity vectors of the pigeon and the bullet\n",
    "    Vp = Vector(vxp,vyp) \n",
    "    Vb = Vector(vxb,vyb)\n",
    "    \n",
    "    #calculate acceleration of drag and gravity on the bullet and the pigeon\n",
    "    a_drag_bullet = drag_force_bullet(Vb, system) / mass_bullet\n",
    "    a_drag_pigeon = drag_force_pigeon (Vp , system) / mass_pigeon\n",
    "    a_grav = Vector(0,-g)\n",
    "    \n",
    "    #combine drag and gravity to get the total acceleration on the bullet and pigeon\n",
    "    a_bullet = a_drag_bullet + a_grav\n",
    "    a_pigeon = a_drag_pigeon + a_grav\n",
    "    \n",
    "    return vxp, vxb, vyp, vyb, a_pigeon.x, a_bullet.x, a_pigeon.y, a_bullet.y "
   ]
  },
  {
   "cell_type": "markdown",
   "metadata": {},
   "source": [
    "### Event Function\n",
    "\n",
    "We next made an event function that stops the simulation when the bullet and the pigeon have the same x-position. We used the knowledge that the x-position of the bullet and pigeon were the same later to our advantage when running the ode solver and finding what the difference in the pigeon and bullet's y-position were. "
   ]
  },
  {
   "cell_type": "code",
   "execution_count": 8,
   "metadata": {},
   "outputs": [],
   "source": [
    "def event_func(state,t,system):\n",
    "    \"\"\"Stop when the x coordinate is 0.\n",
    "    \n",
    "    state: State object\n",
    "    t: time\n",
    "    system: System object\n",
    "    \n",
    "    returns: zero\n",
    "    \"\"\"\n",
    "    xp, xb, yp, yb, vxp, vxb, vyp, vyb = state\n",
    "    return xp - xb  #this will stop the simulation when x position of pigeon and bullet are same "
   ]
  },
  {
   "cell_type": "markdown",
   "metadata": {},
   "source": [
    "We tested our code below here to make sure the event function was working correct. This value of 109.728 meters is what we expected  because the pigeon is falling straight down in a vertical line and its' x-position is unchanging. Therefore, the objects collide at the pigeon's x-position."
   ]
  },
  {
   "cell_type": "code",
   "execution_count": 9,
   "metadata": {},
   "outputs": [
    {
     "data": {
      "text/html": [
       "109.728 meter"
      ],
      "text/latex": [
       "$109.728 meter$"
      ],
      "text/plain": [
       "<Quantity(109.728, 'meter')>"
      ]
     },
     "execution_count": 9,
     "metadata": {},
     "output_type": "execute_result"
    }
   ],
   "source": [
    "system=make_system(params)\n",
    "event_func(system.init,0,system)"
   ]
  },
  {
   "cell_type": "code",
   "execution_count": 10,
   "metadata": {},
   "outputs": [
    {
     "name": "stdout",
     "output_type": "stream",
     "text": [
      "(<Quantity(0.0, 'meter / second')>, <Quantity(100.0, 'meter / second')>, <Quantity(0.0, 'meter / second')>, <Quantity(0.0, 'meter / second')>, <Quantity(0.0, 'meter / second ** 2')>, <Quantity(-3.2789524110079293, 'meter / second ** 2')>, <Quantity(-9.8, 'meter / second ** 2')>, <Quantity(-9.8, 'meter / second ** 2')>)\n"
     ]
    }
   ],
   "source": [
    "print(slope_func(system.init,0,system)) #testing code"
   ]
  },
  {
   "cell_type": "markdown",
   "metadata": {},
   "source": [
    "### Calculating Optimal Angle\n",
    "\n",
    "When the event function instructed the simulation to end, we calculated the difference between the y-position height of the bullet and the pigeon since their x-positions were the same. The goal was to find the angle at which the difference in y-positions would also be zero. To do this, we swept through a range of angles and used the ode solver to run the simulation that stored values in a SweepSeries."
   ]
  },
  {
   "cell_type": "code",
   "execution_count": 11,
   "metadata": {
    "scrolled": false
   },
   "outputs": [],
   "source": [
    "angles = linrange(1,35,0.5) #last number is step amount/difference between numbers\n",
    "\n",
    "def calc_angle_distances(angles, params): #system, params\n",
    "    sweep=SweepSeries()\n",
    "    \n",
    "    for angle in angles:\n",
    "        params.angle_b = angle\n",
    "        system = make_system(params)\n",
    "        results, details = run_ode_solver(system, slope_func, events=event_func) #ode_solver is like run_simulation\n",
    "        \n",
    "        #find the end positions and the difference of y vertical distance between the objects when the simulation stops\n",
    "        end_y_pigeon = get_last_value(results.yp) * m\n",
    "        end_y_bullet= get_last_value(results.yb) * m\n",
    "        difference = end_y_pigeon - end_y_bullet\n",
    "        sweep[angle]=difference\n",
    "        \n",
    "    return sweep"
   ]
  },
  {
   "cell_type": "code",
   "execution_count": 12,
   "metadata": {},
   "outputs": [
    {
     "name": "stdout",
     "output_type": "stream",
     "text": [
      "1.0       8.798089421374865 meter\n",
      "1.5        7.84014694206863 meter\n",
      "2.0       6.881786118286384 meter\n",
      "2.5       5.922860092397225 meter\n",
      "3.0       4.963222048692061 meter\n",
      "3.5       4.002724855503136 meter\n",
      "4.0      3.0412209078238357 meter\n",
      "4.5       2.078562013990507 meter\n",
      "5.0      1.1145992950179275 meter\n",
      "5.5     0.14918308792960921 meter\n",
      "6.0     -0.8178371498862402 meter\n",
      "6.5     -1.7866129365158905 meter\n",
      "7.0       -2.75729686215111 meter\n",
      "7.5      -3.730042686861262 meter\n",
      "8.0      -4.705005439749754 meter\n",
      "8.5       -5.68234151968949 meter\n",
      "9.0     -6.6622087978098286 meter\n",
      "9.5      -7.644766721898793 meter\n",
      "10.0     -8.630176422879956 meter\n",
      "10.5     -9.618600823525348 meter\n",
      "11.0    -10.610204749567167 meter\n",
      "11.5    -11.605155043376097 meter\n",
      "12.0    -12.603620680378048 meter\n",
      "12.5    -13.605772888388032 meter\n",
      "13.0     -14.61178527004541 meter\n",
      "13.5    -15.621833928542511 meter\n",
      "14.0    -16.636097596846064 meter\n",
      "14.5     -17.65475777061908 meter\n",
      "15.0    -18.677998845060266 meter\n",
      "15.5     -19.70600825588673 meter\n",
      "                  ...            \n",
      "20.0    -29.205295524765887 meter\n",
      "20.5     -30.29207653508592 meter\n",
      "21.0    -31.385933587618982 meter\n",
      "21.5    -32.487103468821644 meter\n",
      "22.0     -33.59582834046665 meter\n",
      "22.5    -34.712355969585474 meter\n",
      "23.0     -35.83693996765249 meter\n",
      "23.5     -36.96984003951296 meter\n",
      "24.0     -38.11132224258618 meter\n",
      "24.5    -39.261659256904075 meter\n",
      "25.0     -40.42113066657994 meter\n",
      "25.5    -41.590023253334046 meter\n",
      "26.0    -42.768631302742065 meter\n",
      "26.5     -43.95725692390981 meter\n",
      "27.0     -45.15621038332054 meter\n",
      "27.5     -46.36581045364559 meter\n",
      "28.0     -47.58638477835755 meter\n",
      "28.5     -48.81827025303534 meter\n",
      "29.0     -50.06181342430595 meter\n",
      "29.5     -51.31737090742563 meter\n",
      "30.0    -52.585309823566284 meter\n",
      "30.5     -53.86600825793832 meter\n",
      "31.0    -55.159855739953876 meter\n",
      "31.5    -56.467253746710334 meter\n",
      "32.0     -57.78861623115467 meter\n",
      "32.5    -59.124370176377944 meter\n",
      "33.0    -60.474956177581795 meter\n",
      "33.5    -61.840829053358235 meter\n",
      "34.0     -63.22245848803221 meter\n",
      "34.5     -64.62032970692928 meter\n",
      "Length: 68, dtype: object\n"
     ]
    }
   ],
   "source": [
    "print(calc_angle_distances(angles,params))"
   ]
  },
  {
   "cell_type": "markdown",
   "metadata": {},
   "source": [
    "### Plot 1\n",
    "\n",
    "Below is a plot of the difference in y-position/height between the two objects, a graphical form of the above SweepSeries table. When the y-position distance between the objects is positive, we know that the angle is too small and the bullet travels over the pigeon. When the distance is negative, the bullet has traveled under the pigeon without colliding because the angle is too big. We are interested in the point at which the difference is zero and the pigeon and the bullet have the same exact (x,y) position."
   ]
  },
  {
   "cell_type": "code",
   "execution_count": 13,
   "metadata": {},
   "outputs": [
    {
     "data": {
      "image/png": "[encoded data removed]",
      "text/plain": [
       "<Figure size 432x288 with 1 Axes>"
      ]
     },
     "metadata": {},
     "output_type": "display_data"
    }
   ],
   "source": [
    "plot(calc_angle_distances(angles, params))\n",
    "decorate(xlabel='Launch angle (degree)',\n",
    "         ylabel='Distance between objects (m)',\n",
    "         title='Heights as a function of launch angle',\n",
    "         legend=False)"
   ]
  },
  {
   "cell_type": "markdown",
   "metadata": {},
   "source": [
    "### Calculate Difference in Y-Height\n",
    "\n",
    "As we can see from the chart and the plot above, the optimal angle to get the y positions of the objects the same is somewhere between 4 and 7 degrees. We created another function to be used in the fsolve function where we put in an expected angle around  6 degrees, that can then be used to check what the actual angle needed is. To set up the fsolve, we had to make this  calc_difference function to run the simulation with our specific optimal angle."
   ]
  },
  {
   "cell_type": "code",
   "execution_count": 14,
   "metadata": {},
   "outputs": [],
   "source": [
    "def calc_difference(angle, params): #system, params\n",
    "\n",
    "    params.angle_b = angle\n",
    "    system = make_system(params)\n",
    "    results, details = run_ode_solver(system, slope_func, events=event_func) #ode_solver is like run_simulation\n",
    "    end_y_pigeon = get_last_value(results.yp) * m\n",
    "    end_y_bullet= get_last_value(results.yb) * m\n",
    "    difference = end_y_pigeon - end_y_bullet #calculating distances ebtween y positions.\n",
    "        \n",
    "    return difference"
   ]
  },
  {
   "cell_type": "markdown",
   "metadata": {},
   "source": [
    "# Results"
   ]
  },
  {
   "cell_type": "markdown",
   "metadata": {},
   "source": [
    "### Fsolve\n",
    "\n",
    "We used the fsolve command to find the exact angle when the difference in the y-positions of the bullet and pigeon is 0. We used an initial guess of 6 degrees and then printed the actual angle which fsolve found to be 5.58 degrees."
   ]
  },
  {
   "cell_type": "code",
   "execution_count": 15,
   "metadata": {},
   "outputs": [
    {
     "name": "stdout",
     "output_type": "stream",
     "text": [
      "5.577191551063826\n"
     ]
    }
   ],
   "source": [
    "optimal = fsolve(calc_difference, 6, params)[0] #6 is the initial guess for the optimal angle\n",
    "print(optimal)"
   ]
  },
  {
   "cell_type": "markdown",
   "metadata": {},
   "source": [
    "### Plotting Trajectories\n",
    "\n",
    "After finding the optimal angle for collision, we made a copy of the initial parameters and replaced the initial angle that the bullet is shot at with the optimal angle, in this case 5.58 degrees. With this new data, we could plot the trajectories of the both the pigeon and the bullet and visualize their collision path. We also used get_last_value to find the height/y-position at which the pigeon and bullet collide."
   ]
  },
  {
   "cell_type": "code",
   "execution_count": 16,
   "metadata": {},
   "outputs": [],
   "source": [
    "params_opt = copy(params) #copies object without changing it so we can use params elsewhere\n",
    "params_opt.angle_b = optimal * degree #replacing the angle with the optimal angle\n",
    "system_opt = make_system(params_opt)\n",
    "results, details = run_ode_solver(system_opt, slope_func, events=event_func, max_step = 0.1) #ode_solver is like run_simulation\n",
    "#print(results)"
   ]
  },
  {
   "cell_type": "markdown",
   "metadata": {},
   "source": [
    "## Plot 2"
   ]
  },
  {
   "cell_type": "code",
   "execution_count": 17,
   "metadata": {},
   "outputs": [
    {
     "data": {
      "image/png": "[encoded data removed]",
      "text/plain": [
       "<Figure size 432x288 with 1 Axes>"
      ]
     },
     "metadata": {},
     "output_type": "display_data"
    }
   ],
   "source": [
    "plot(results.xp, results.yp, label = 'Pigeon')\n",
    "plot(results.xb, results.yb, label = 'Bullet')\n",
    "decorate(xlabel='Horizonal distance (m)',\n",
    "         ylabel='Vertical distance (m)',\n",
    "         title='Trajectories with optimal launch angle',\n",
    "         legend = True)"
   ]
  },
  {
   "cell_type": "code",
   "execution_count": 18,
   "metadata": {},
   "outputs": [
    {
     "name": "stdout",
     "output_type": "stream",
     "text": [
      "6.136990657150233\n"
     ]
    }
   ],
   "source": [
    "#finding the vertical height at which the pigeon and the bullet collide\n",
    "vert_dist = get_last_value(results.yb)\n",
    "print (vert_dist)"
   ]
  },
  {
   "cell_type": "markdown",
   "metadata": {},
   "source": [
    "This model used a SweepSeries to determine the optimal angle to fire a shotgun to hit a clay pigeon that is falling from a football field goal post from the other side of the field.\n",
    "\n",
    "We answered our design question (what is the optimal angle from the ground that a shooter should fire a bullet at a falling clay pigeon while playing the new game of pigeon ball?) by finding that the optimal angle is 5.58 degrees. While this angle seems small and low to the ground, it makes sense due to the very high speed at which the bullet is traveling across the field after being shot.\n",
    "\n",
    "In our first figure, we show how the difference in y-position  between the pigeon and the bullet change as a function of the launch angle. The line crosses 0 on the y-axis between 0 and 10 degrees, indicating our optimal angle would be somewhere in between. The second figure depicts the trajectory of the pigeon and the bullet when the optimal angle is placed into params. We can see that the two object collide 6.137 meters above the ground."
   ]
  },
  {
   "cell_type": "markdown",
   "metadata": {},
   "source": [
    "# Interpretation"
   ]
  },
  {
   "cell_type": "markdown",
   "metadata": {},
   "source": [
    "Iteration played an important role in our model. We originally made a model that involved a stationary apple in a tree while the gun fired so that we could start simple and only model the forces on the bullet’s travel before introducing a second moving object. Making a basic working model and then introducing new factors to answer our question was a very successful strategy and prevented us from being daunted by the task of modeling the independent movement of two objects until they collided. \n",
    "We also learned the value of testing each function as we created it when we got complicated errors and needed to retrace our steps and see what function wasn’t working correctly. \n",
    "\n",
    "Our model and question involving pigeon ball are valuable because skeet shooter and hunters will know at what angle to aim to accurately hit a free-falling pigeon or other target object. \n",
    "\n",
    "Our model worked quite well, but it could have been made even better by incorporating terminal velocity. Including the universal gravitational attraction between the bullet and pigeon would likely have no effect on the system since these forces are so small but are real-world forces. Including these force if we had more time to improve our program might have made our model more accurately reflect the physical world although not significantly change our results.\n"
   ]
  },
  {
   "cell_type": "markdown",
   "metadata": {},
   "source": [
    "## Sources\n",
    "https://www.infoplease.com/science-health/measurements/standard-measurements-sports\n",
    "\n",
    "https://www.quora.com/What-would-it-feel-like-to-get-shot-with-a-2-mm-Kolibri\n",
    "\n",
    "https://www.pewpewtactical.com/demystifying-shotgun-shell-terms/\n",
    "\n",
    "https://en.wikipedia.org/wiki/Clay_pigeon_shooting\n"
   ]
  }
 ],
 "metadata": {
  "kernelspec": {
   "display_name": "Python 3",
   "language": "python",
   "name": "python3"
  },
  "language_info": {
   "codemirror_mode": {
    "name": "ipython",
    "version": 3
   },
   "file_extension": ".py",
   "mimetype": "text/x-python",
   "name": "python",
   "nbconvert_exporter": "python",
   "pygments_lexer": "ipython3",
   "version": "3.6.6"
  }
 },
 "nbformat": 4,
 "nbformat_minor": 2
}
